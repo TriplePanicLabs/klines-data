{
 "cells": [
  {
   "cell_type": "code",
   "execution_count": 3,
   "metadata": {},
   "outputs": [
    {
     "name": "stdout",
     "output_type": "stream",
     "text": [
      "Renamed 2017\\klinesETH2017-08-1.csv to 2017\\klinesETH2017-08-.csv\n"
     ]
    },
    {
     "ename": "FileExistsError",
     "evalue": "[WinError 183] Невозможно создать файл, так как он уже существует: '2017\\\\klinesETH2017-08-2..csv' -> '2017\\\\klinesETH2017-08-.csv'",
     "output_type": "error",
     "traceback": [
      "\u001b[1;31m---------------------------------------------------------------------------\u001b[0m",
      "\u001b[1;31mFileExistsError\u001b[0m                           Traceback (most recent call last)",
      "Cell \u001b[1;32mIn[3], line 25\u001b[0m\n\u001b[0;32m     22\u001b[0m new_filepath \u001b[38;5;241m=\u001b[39m os\u001b[38;5;241m.\u001b[39mpath\u001b[38;5;241m.\u001b[39mjoin(directory, new_filename)\n\u001b[0;32m     24\u001b[0m \u001b[38;5;66;03m# Rename the file\u001b[39;00m\n\u001b[1;32m---> 25\u001b[0m \u001b[43mos\u001b[49m\u001b[38;5;241;43m.\u001b[39;49m\u001b[43mrename\u001b[49m\u001b[43m(\u001b[49m\u001b[43mold_filepath\u001b[49m\u001b[43m,\u001b[49m\u001b[43m \u001b[49m\u001b[43mnew_filepath\u001b[49m\u001b[43m)\u001b[49m\n\u001b[0;32m     26\u001b[0m \u001b[38;5;28mprint\u001b[39m(\u001b[38;5;124mf\u001b[39m\u001b[38;5;124m'\u001b[39m\u001b[38;5;124mRenamed \u001b[39m\u001b[38;5;132;01m{\u001b[39;00mold_filepath\u001b[38;5;132;01m}\u001b[39;00m\u001b[38;5;124m to \u001b[39m\u001b[38;5;132;01m{\u001b[39;00mnew_filepath\u001b[38;5;132;01m}\u001b[39;00m\u001b[38;5;124m'\u001b[39m)\n",
      "\u001b[1;31mFileExistsError\u001b[0m: [WinError 183] Невозможно создать файл, так как он уже существует: '2017\\\\klinesETH2017-08-2..csv' -> '2017\\\\klinesETH2017-08-.csv'"
     ]
    }
   ],
   "source": [
    "import os\n",
    "\n",
    "# List of directories to process\n",
    "directories = ['2017', '2018', '2019', '2020', '2021', '2022']\n",
    "\n",
    "# Iterate over each directory\n",
    "for directory in directories:\n",
    "    # Iterate over each file in the directory\n",
    "    for filename in os.listdir(directory):\n",
    "        # Check if the file matches the pattern\n",
    "        if filename.startswith('klinesETH') and filename.endswith('.csv'):\n",
    "            # Extract the year, month, and day from the filename\n",
    "            year = filename[9:13]\n",
    "            month = filename[14:16]\n",
    "            day = filename[17:17]\n",
    "            \n",
    "            # Create the new filename\n",
    "            new_filename = f'klinesETH{year}-{month}-{day}.csv'\n",
    "            \n",
    "            # Create the full paths to the old and new filenames\n",
    "            old_filepath = os.path.join(directory, filename)\n",
    "            new_filepath = os.path.join(directory, new_filename)\n",
    "            \n",
    "            # Rename the file\n",
    "            os.rename(old_filepath, new_filepath)\n",
    "            print(f'Renamed {old_filepath} to {new_filepath}')"
   ]
  },
  {
   "cell_type": "code",
   "execution_count": 6,
   "metadata": {},
   "outputs": [],
   "source": [
    "import os\n",
    "import re\n",
    "\n",
    "def rename_files(root_dir):\n",
    "    # Regular expression pattern to match filenames with extra dots\n",
    "    pattern = re.compile(r'^(.*?)(\\.\\d+)\\.\\.(csv)$')\n",
    "\n",
    "    # Recursively iterate over all subdirectories and files\n",
    "    for root, _, files in os.walk(root_dir):\n",
    "        for file in files:\n",
    "            match = pattern.match(file)\n",
    "            if match:\n",
    "                # Construct new filename by replacing extra dots\n",
    "                new_name = f\"{match.group(1)}{match.group(2)}.{match.group(3)}\"\n",
    "                old_path = os.path.join(root, file)\n",
    "                new_path = os.path.join(root, new_name)\n",
    "                os.rename(old_path, new_path)\n",
    "                print(f\"Renamed {old_path} to {new_path}\")\n",
    "\n",
    "# Usage\n",
    "rename_files('./')\n"
   ]
  }
 ],
 "metadata": {
  "kernelspec": {
   "display_name": ".venv",
   "language": "python",
   "name": "python3"
  },
  "language_info": {
   "codemirror_mode": {
    "name": "ipython",
    "version": 3
   },
   "file_extension": ".py",
   "mimetype": "text/x-python",
   "name": "python",
   "nbconvert_exporter": "python",
   "pygments_lexer": "ipython3",
   "version": "3.12.3"
  }
 },
 "nbformat": 4,
 "nbformat_minor": 2
}
