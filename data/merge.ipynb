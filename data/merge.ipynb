{
 "cells": [
  {
   "cell_type": "code",
   "execution_count": null,
   "metadata": {},
   "outputs": [],
   "source": [
    "import os\n",
    "import pandas as pd\n",
    "from pathlib import Path\n",
    "from collections import defaultdict\n",
    "\n",
    "def merge_csv_files(root_dir):\n",
    "    # Dictionary to group files by their base names\n",
    "    files_dict = defaultdict(list)\n",
    "\n",
    "    # Recursively iterate over all subdirectories and files\n",
    "    for root, _, files in os.walk(root_dir):\n",
    "        for file in files:\n",
    "            if file.endswith('.csv'):\n",
    "                # Extract base name and part number\n",
    "                base_name, part = file.rsplit('-', 1)\n",
    "                part_number = part.split('.')[0]  # Remove the extension\n",
    "                files_dict[base_name].append((int(part_number), os.path.join(root, file)))\n",
    "    \n",
    "    # Merge files for each base name\n",
    "    for base_name, file_infos in files_dict.items():\n",
    "        # Sort files by their part numbers\n",
    "        file_infos.sort()\n",
    "        \n",
    "        # Read and concatenate the files\n",
    "        combined_df = pd.concat([pd.read_csv(file_path) for _, file_path in file_infos], ignore_index=True)\n",
    "        \n",
    "        # Save the merged file\n",
    "        output_path = os.path.join(root_dir, f\"{base_name}.csv\")\n",
    "        combined_df.to_csv(output_path, index=False)\n",
    "        print(f\"Merged files into {output_path}\")\n",
    "\n",
    "# Usage\n",
    "merge_csv_files('path_to_your_directory')"
   ]
  }
 ],
 "metadata": {
  "language_info": {
   "name": "python"
  }
 },
 "nbformat": 4,
 "nbformat_minor": 2
}
