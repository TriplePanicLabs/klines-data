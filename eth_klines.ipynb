{
 "cells": [
  {
   "cell_type": "code",
   "execution_count": 1,
   "metadata": {},
   "outputs": [],
   "source": [
    "import sys\n",
    "import os\n",
    "import pandas as pd\n",
    "from binance.client import Client\n",
    "from keys import BINANCE_API_KEY, BINANCE_SECRET_KEY\n",
    "\n",
    "sys.path.append('..')\n",
    "\n",
    "path = \"./data\"\n",
    "\n",
    "if not os.path.exists(path):\n",
    "    os.mkdir(os.path.join(path))\n",
    "    \n",
    "client = Client(api_key=BINANCE_API_KEY, api_secret=BINANCE_SECRET_KEY)\n"
   ]
  },
  {
   "cell_type": "code",
   "execution_count": 2,
   "metadata": {},
   "outputs": [],
   "source": [
    "def write_klines_to_csv(symbol_, interval_, year):\n",
    "    path = \"./data/\" + str(year)\n",
    "    if not os.path.exists(path):\n",
    "        os.mkdir(os.path.join(path))\n",
    "\n",
    "    for i in range(1, 13):\n",
    "        start_str_ = str(year) + '-' + str(i).zfill(2) + '-01'\n",
    "        end_str_ = str(year + 1) + '-' + str((i + 1) % 12).zfill(2) + '-01' if (i + 1) % 12 == 1 else str(year) + '-' + str((i + 1)).zfill(2) + '-01'\n",
    "\n",
    "        if not os.path.exists(os.path.join(path + '/klinesETH' + str(year) + str(i).zfill(2) + '.csv')):\n",
    "            klines = client.get_historical_klines(symbol=symbol_, interval=interval_, start_str=start_str_, end_str=end_str_)\n",
    "\n",
    "            if not klines:\n",
    "                print(f\"No data for {start_str_} to {end_str_}\")\n",
    "                continue\n",
    "\n",
    "            df = pd.DataFrame(klines).iloc[:, :6]\n",
    "            \n",
    "            if df.empty or not all(col in df.columns for col in range(6)):\n",
    "                print(\"DataFrame does not have the expected columns.\")\n",
    "                continue\n",
    "            \n",
    "            df['timestamp'] = df[0]\n",
    "            df['timestamp_human'] = pd.to_datetime(df[0], unit='ms')\n",
    "            df['open'] = df[1].astype(float)\n",
    "            df['high'] = df[2].astype(float)\n",
    "            df['low'] = df[3].astype(float)\n",
    "            df['close'] = df[4].astype(float)\n",
    "            df['volume'] = (df[5].astype(float) * df[4].astype(float)).astype(int)\n",
    "            df = df.drop([0, 1, 2, 3, 4, 5], axis=1)\n",
    "            df = df.drop(df.index[-1], errors='ignore')\n",
    "\n",
    "            df.to_csv(os.path.join(path + '/klinesETH' + str(year) + str(i).zfill(2) + '.csv'))"
   ]
  },
  {
   "cell_type": "code",
   "execution_count": 3,
   "metadata": {},
   "outputs": [],
   "source": [
    "def struct_by_year(start_year, end_year):\n",
    "    for i in range(start_year, end_year + 1):\n",
    "        write_klines_to_csv('ETHUSDT', '1s', i)"
   ]
  },
  {
   "cell_type": "code",
   "execution_count": 4,
   "metadata": {},
   "outputs": [
    {
     "name": "stdout",
     "output_type": "stream",
     "text": [
      "No data for 2017-01-01 to 2017-02-01\n",
      "No data for 2017-02-01 to 2017-03-01\n",
      "No data for 2017-03-01 to 2017-04-01\n",
      "No data for 2017-04-01 to 2017-05-01\n",
      "No data for 2017-05-01 to 2017-06-01\n",
      "No data for 2017-06-01 to 2017-07-01\n",
      "No data for 2017-07-01 to 2017-08-01\n"
     ]
    }
   ],
   "source": [
    "struct_by_year(2017, 2022)"
   ]
  }
 ],
 "metadata": {
  "kernelspec": {
   "display_name": ".venv",
   "language": "python",
   "name": "python3"
  },
  "language_info": {
   "codemirror_mode": {
    "name": "ipython",
    "version": 3
   },
   "file_extension": ".py",
   "mimetype": "text/x-python",
   "name": "python",
   "nbconvert_exporter": "python",
   "pygments_lexer": "ipython3",
   "version": "3.11.8"
  }
 },
 "nbformat": 4,
 "nbformat_minor": 2
}
